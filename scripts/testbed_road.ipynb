{
 "metadata": {
  "name": ""
 },
 "nbformat": 3,
 "nbformat_minor": 0,
 "worksheets": [
  {
   "cells": [
    {
     "cell_type": "code",
     "collapsed": false,
     "input": [
      "import cv2\n",
      "\n",
      "filename = '../vis_save_100005.jpg'\n",
      "filename = '../vis_save_101083.jpg'\n",
      "#filename = '../vis_save_104440.jpg'\n",
      "\n",
      "\n",
      "\n",
      "cur = cv2.imread(filename, cv2.CV_LOAD_IMAGE_GRAYSCALE)\n",
      "\n",
      "figure(figsize = (18,10))\n",
      "imshow(cur) \n"
     ],
     "language": "python",
     "metadata": {},
     "outputs": []
    },
    {
     "cell_type": "code",
     "collapsed": false,
     "input": [
      "method = cv2.ADAPTIVE_THRESH_MEAN_C\n",
      "#method = cv2.ADAPTIVE_THRESH_GAUSSIAN_C\n",
      "offset = 20\n",
      "sz = 21\n",
      "wd = cur.shape[1]\n",
      "ht = cur.shape[0]\n",
      "cur2 = cur[:-ht/4, wd/3:2*wd/3+50]\n",
      "cur3 = cv2.adaptiveThreshold(cur2, 255, method, cv2.THRESH_BINARY_INV, sz, offset)\n",
      "\n",
      "figure(figsize = (28,20))\n",
      "vis = np.zeros((cur3.shape[0], cur3.shape[1], 3), np.uint8)\n",
      "print vis.shape\n",
      "vis[:,:,0] = cur3\n",
      "vis[:,:,1] = cur3\n",
      "vis[:,:,2] = cur3\n",
      "imshow(vis) "
     ],
     "language": "python",
     "metadata": {},
     "outputs": []
    }
   ],
   "metadata": {}
  }
 ]
}
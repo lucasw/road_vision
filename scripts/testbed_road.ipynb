{
 "metadata": {
  "name": ""
 },
 "nbformat": 3,
 "nbformat_minor": 0,
 "worksheets": [
  {
   "cells": [
    {
     "cell_type": "markdown",
     "metadata": {},
     "source": [
      "# Grabcut\n",
      "\n",
      "This worked okay, ought to be good for segmenting road from sky and terrain and cars, but loses road in distance, edges of road aren't great.  \n",
      "Possibly could be used for segmenting lane markers but won't work in distance.\n",
      "\n",
      "# Watershed\n",
      "\n",
      "Couldn't get demo to work, Sketcher works how?\n",
      "\n",
      "# Floodfill\n",
      "\n",
      "This works really good for finding road and lane markers."
     ]
    },
    {
     "cell_type": "code",
     "collapsed": false,
     "input": [
      "import cv2\n",
      "\n",
      "filename = '../vis_save_100005.jpg'\n",
      "filename = '../vis_save_101083.jpg'\n",
      "#filename = '../vis_save_104440.jpg'\n",
      "\n",
      "\n",
      "\n",
      "cur = cv2.imread(filename, cv2.CV_LOAD_IMAGE_GRAYSCALE)\n",
      "\n",
      "figure(figsize = (18,10))\n",
      "\n",
      "vis = np.zeros((cur.shape[0], cur.shape[1], 3), np.uint8)\n",
      "vis[:,:,0] = cur\n",
      "vis[:,:,1] = cur\n",
      "vis[:,:,2] = cur\n",
      "imshow(vis)\n",
      "\n"
     ],
     "language": "python",
     "metadata": {},
     "outputs": []
    },
    {
     "cell_type": "code",
     "collapsed": false,
     "input": [
      "method = cv2.ADAPTIVE_THRESH_MEAN_C\n",
      "#method = cv2.ADAPTIVE_THRESH_GAUSSIAN_C\n",
      "offset = 10\n",
      "sz = 21\n",
      "wd = cur.shape[1]\n",
      "ht = cur.shape[0]\n",
      "cur2 = cur[:-ht/4, wd/3:2*wd/3+50]\n",
      "\n",
      "#cur2 = cv2.GaussianBlur(cur2, (3,3), 1 )  #cv2.blur(cur2, (3,3))\n",
      "cur2 = cv2.medianBlur(cur2, 3) \n",
      "cur3 = cv2.adaptiveThreshold(cur2, 255, method, cv2.THRESH_BINARY_INV, sz, offset)\n",
      "\n",
      "figure(figsize = (28,20))\n",
      "vis = np.zeros((cur3.shape[0], cur3.shape[1], 3), np.uint8)\n",
      "print vis.shape\n",
      "vis[:,:,0] = cur3\n",
      "vis[:,:,1] = cur3\n",
      "vis[:,:,2] = cur3\n",
      "imshow(vis) "
     ],
     "language": "python",
     "metadata": {},
     "outputs": []
    }
   ],
   "metadata": {}
  }
 ]
}